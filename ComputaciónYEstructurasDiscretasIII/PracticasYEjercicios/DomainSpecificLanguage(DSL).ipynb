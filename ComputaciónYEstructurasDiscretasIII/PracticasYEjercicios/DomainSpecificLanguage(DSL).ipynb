{
  "nbformat": 4,
  "nbformat_minor": 0,
  "metadata": {
    "colab": {
      "provenance": []
    },
    "kernelspec": {
      "name": "python3",
      "display_name": "Python 3"
    },
    "language_info": {
      "name": "python"
    }
  },
  "cells": [
    {
      "cell_type": "code",
      "source": [
        "!pip install TextX"
      ],
      "metadata": {
        "id": "aVbnQcXNm7ne",
        "colab": {
          "base_uri": "https://localhost:8080/"
        },
        "outputId": "31c2d74b-928a-4bcf-eb4e-ee13919711c2"
      },
      "execution_count": null,
      "outputs": [
        {
          "output_type": "stream",
          "name": "stdout",
          "text": [
            "Requirement already satisfied: TextX in /usr/local/lib/python3.10/dist-packages (4.0.1)\n",
            "Requirement already satisfied: Arpeggio>=2.0.0 in /usr/local/lib/python3.10/dist-packages (from TextX) (2.0.2)\n"
          ]
        }
      ]
    },
    {
      "cell_type": "markdown",
      "source": [],
      "metadata": {
        "id": "dS1X32M6sNI-"
      }
    },
    {
      "cell_type": "code",
      "execution_count": null,
      "metadata": {
        "id": "rh0SQm9j124O",
        "colab": {
          "base_uri": "https://localhost:8080/"
        },
        "outputId": "a9d2d2e9-7e0a-49c0-c01f-c97d19b6a9f1"
      },
      "outputs": [
        {
          "output_type": "stream",
          "name": "stdout",
          "text": [
            "SQLStatements:\n",
            "  statements += SelectStatement\n",
            ";\n",
            "SelectStatement:\n",
            " 'SELECT' selectList = ColumnList 'FROM' tables= TableList ('WHERE' condition=Expression)? ';'\n",
            ";\n",
            "ColumnList:\n",
            "  columns+=ID [',']\n",
            ";\n",
            "TableList:\n",
            "  tables+=ID [',']\n",
            ";\n",
            "Expression:\n",
            "  left = Term (op= LogicOp right = Term)*\n",
            ";\n",
            "LogicOp:\n",
            "  'AND' |'OR'\n",
            ";\n",
            "Term:\n",
            "  left=Factor op= Operator right= Factor\n",
            ";\n",
            "Operator:\n",
            "  '<' | '>' | '<=' | '>=' | '=' | '<>'\n",
            ";\n",
            "Factor:\n",
            "  Literal | ID | '(' Expression ')'\n",
            ";\n",
            "Literal:\n",
            "  INT | STRING\n",
            ";\n",
            "\n"
          ]
        }
      ],
      "source": [
        "from textx import metamodel_from_str\n",
        "\n",
        "# Define the SQL grammar using TextX syntax\n",
        "sql_grammar = '''SQLStatements:\n",
        "  statements += SelectStatement\n",
        ";\n",
        "SelectStatement:\n",
        " 'SELECT' selectList = ColumnList 'FROM' tables= TableList ('WHERE' condition=Expression)? ';'\n",
        ";\n",
        "ColumnList:\n",
        "  columns+=ID [',']\n",
        ";\n",
        "TableList:\n",
        "  tables+=ID [',']\n",
        ";\n",
        "Expression:\n",
        "  left = Term (op= LogicOp right = Term)*\n",
        ";\n",
        "LogicOp:\n",
        "  'AND' |'OR'\n",
        ";\n",
        "Term:\n",
        "  left=Factor op= Operator right= Factor\n",
        ";\n",
        "Operator:\n",
        "  '<' | '>' | '<=' | '>=' | '=' | '<>'\n",
        ";\n",
        "Factor:\n",
        "  Literal | ID | '(' Expression ')'\n",
        ";\n",
        "Literal:\n",
        "  INT | STRING\n",
        ";\n",
        "'''\n",
        "\n",
        "print(sql_grammar)\n",
        "\n"
      ]
    },
    {
      "cell_type": "code",
      "source": [
        "# Create metamodel from the SQL grammar\n",
        "sql_metamodel = metamodel_from_str(sql_grammar)\n",
        "\n"
      ],
      "metadata": {
        "id": "4CA4dW3LtWSu"
      },
      "execution_count": null,
      "outputs": []
    },
    {
      "cell_type": "code",
      "source": [],
      "metadata": {
        "id": "q5ySosC2dkdJ"
      },
      "execution_count": null,
      "outputs": []
    },
    {
      "cell_type": "code",
      "source": [
        "!textx generate grammar.tx --target dot"
      ],
      "metadata": {
        "colab": {
          "base_uri": "https://localhost:8080/"
        },
        "id": "lmHQ2VHvslZ-",
        "outputId": "974f0095-e0d4-4994-d7e2-07494273a9bb"
      },
      "execution_count": null,
      "outputs": [
        {
          "output_type": "stream",
          "name": "stdout",
          "text": [
            "Generating dot target from models:\n",
            "/content/grammar.tx\n",
            "-> /content/grammar.dot\n",
            "    To convert to png run \"dot -Tpng -O grammar.dot\"\n"
          ]
        }
      ]
    },
    {
      "cell_type": "code",
      "source": [
        "import pydot\n",
        "\n",
        "(graph,) = pydot.graph_from_dot_file('grammar.dot')\n",
        "graph.write_png('grammar.png')"
      ],
      "metadata": {
        "id": "XpgxG5nou6d1"
      },
      "execution_count": null,
      "outputs": []
    },
    {
      "cell_type": "code",
      "source": [
        "\n",
        "\n",
        "# Example SQL query\n",
        "sql_query = '''SELECT name, surname, age   FROM users, students;\n",
        "SELECT name, passwd   FROM users, students;'''\n",
        "\n",
        "#sql_query = \"\"\"SELECT name, surname, age   FROM users, students WHERE name = 'Juan' AND age >10;\n",
        "#SELECT name, surname, age   FROM users;\"\"\"\n",
        "# Parse the SQL query using the SQL metamodel\n",
        "model = sql_metamodel.model_from_str(sql_query)\n",
        "\n",
        "# Traverse the parsed model and perform further processing\n",
        "for statement in model.statements:\n",
        "  print(statement.selectList.columns)"
      ],
      "metadata": {
        "id": "nAPvHBflpHQY",
        "colab": {
          "base_uri": "https://localhost:8080/"
        },
        "outputId": "d887797f-57a6-4abe-dc3a-6478231b4526"
      },
      "execution_count": null,
      "outputs": [
        {
          "output_type": "stream",
          "name": "stdout",
          "text": [
            "['name', 'surname', 'age']\n",
            "['name', 'passwd']\n"
          ]
        }
      ]
    },
    {
      "cell_type": "code",
      "source": [
        "!textx generate queries.tx --grammar grammar.tx --target dot"
      ],
      "metadata": {
        "colab": {
          "base_uri": "https://localhost:8080/"
        },
        "id": "tv_QANFvyCBA",
        "outputId": "773c5d28-5819-4656-c569-e6eb4d4bb8ce"
      },
      "execution_count": null,
      "outputs": [
        {
          "output_type": "stream",
          "name": "stdout",
          "text": [
            "Generating dot target from models:\n",
            "/content/queries.tx\n",
            "-> /content/queries.dot\n",
            "    To convert to png run \"dot -Tpng -O queries.dot\"\n"
          ]
        }
      ]
    },
    {
      "cell_type": "code",
      "source": [
        "(graph,) = pydot.graph_from_dot_file('queries.dot')\n",
        "graph.write_png('queries.png')"
      ],
      "metadata": {
        "id": "hbQQWGWNm4lC"
      },
      "execution_count": null,
      "outputs": []
    },
    {
      "cell_type": "code",
      "source": [],
      "metadata": {
        "id": "_1Guby0om5bi"
      },
      "execution_count": null,
      "outputs": []
    }
  ]
}