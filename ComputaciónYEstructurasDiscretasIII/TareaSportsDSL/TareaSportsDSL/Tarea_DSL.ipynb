{
  "nbformat": 4,
  "nbformat_minor": 0,
  "metadata": {
    "colab": {
      "provenance": []
    },
    "kernelspec": {
      "name": "python3",
      "display_name": "Python 3"
    },
    "language_info": {
      "name": "python"
    }
  },
  "cells": [
    {
      "cell_type": "markdown",
      "source": [
        "# Santiago Valencia García - A00395902 - Tarea"
      ],
      "metadata": {
        "id": "mZCHQYa6L4_L"
      }
    },
    {
      "cell_type": "code",
      "source": [
        "!pip install TextX"
      ],
      "metadata": {
        "id": "aVbnQcXNm7ne",
        "colab": {
          "base_uri": "https://localhost:8080/"
        },
        "outputId": "da7e0271-4244-46fa-d8c6-bf28b34d572e"
      },
      "execution_count": 26,
      "outputs": [
        {
          "output_type": "stream",
          "name": "stdout",
          "text": [
            "Requirement already satisfied: TextX in /usr/local/lib/python3.10/dist-packages (4.0.1)\n",
            "Requirement already satisfied: Arpeggio>=2.0.0 in /usr/local/lib/python3.10/dist-packages (from TextX) (2.0.2)\n"
          ]
        }
      ]
    },
    {
      "cell_type": "code",
      "execution_count": 5,
      "metadata": {
        "id": "rh0SQm9j124O"
      },
      "outputs": [],
      "source": [
        "sports_grammar = '''\n",
        "SportsDSL:\n",
        "    teams += Team\n",
        ";\n",
        "\n",
        "Team:\n",
        "    'CREATE' teamType=TeamType 'TEAM' name=ID '{'\n",
        "        'PLAYERS:' players+=Player[',']\n",
        "        'SCORES:' scores+=Score[',']\n",
        "    '}'\n",
        ";\n",
        "\n",
        "Player:\n",
        "    name=ID 'POSITION' position=ID\n",
        ";\n",
        "\n",
        "Score:\n",
        "    opponent=ID ':' points=INT\n",
        ";\n",
        "\n",
        "TeamType:\n",
        "    'FOOTBALL' | 'BASKETBALL' | 'VOLLEYBALL'\n",
        ";\n",
        "\n",
        "ID: /[a-zA-Z_][a-zA-Z0-9_]*/;\n",
        "INT: /[0-9]+/;\n",
        "'''\n"
      ]
    },
    {
      "cell_type": "code",
      "source": [
        "from textx import metamodel_from_str\n",
        "from textx.export import model_export\n",
        "\n",
        "sports_metamodel = metamodel_from_str(sports_grammar)\n",
        "\n",
        "# Entrada del DSL\n",
        "sports_dsl_example = '''\n",
        "CREATE FOOTBALL TEAM Barcelona {\n",
        "    PLAYERS: Messi POSITION Forward, Romero POSITION Defender\n",
        "    SCORES: RealMadrid: 2, Atletico: 1\n",
        "}\n",
        "\n",
        "CREATE BASKETBALL TEAM Lakers {\n",
        "    PLAYERS: LeBron POSITION Forward, Jordan POSITION Center\n",
        "    SCORES: Celtics: 110, Clippers: 95\n",
        "}\n",
        "\n",
        "CREATE VOLLEYBALL TEAM SkyVolleys {\n",
        "    PLAYERS: Sarah POSITION Spiker, John POSITION Libero\n",
        "    SCORES: ThunderVolleys: 3, FireVolleys: 2\n",
        "}\n",
        "'''\n",
        "\n",
        "# Parseamos el modelo\n",
        "model = sports_metamodel.model_from_str(sports_dsl_example)\n",
        "\n",
        "model_export(model, \"syntax_tree.dot\")\n",
        "\n",
        "for team in model.teams:\n",
        "    print(f\"Team: {team.name} ({team.teamType})\")\n",
        "    print(\"Players:\")\n",
        "    for player in team.players:\n",
        "        print(f\"  {player.name} - {player.position}\")\n",
        "    print(\"Scores:\")\n",
        "    for score in team.scores:\n",
        "        print(f\"  Against {score.opponent}: {score.points} points\")\n",
        "    print()\n"
      ],
      "metadata": {
        "id": "4CA4dW3LtWSu",
        "colab": {
          "base_uri": "https://localhost:8080/"
        },
        "outputId": "a7f79d0d-1222-4506-c3bd-27ccc9970d84"
      },
      "execution_count": 33,
      "outputs": [
        {
          "output_type": "stream",
          "name": "stdout",
          "text": [
            "Team: Barcelona (FOOTBALL)\n",
            "Players:\n",
            "  Messi - Forward\n",
            "  Romero - Defender\n",
            "Scores:\n",
            "  Against RealMadrid: 2 points\n",
            "  Against Atletico: 1 points\n",
            "\n",
            "Team: Lakers (BASKETBALL)\n",
            "Players:\n",
            "  LeBron - Forward\n",
            "  Jordan - Center\n",
            "Scores:\n",
            "  Against Celtics: 110 points\n",
            "  Against Clippers: 95 points\n",
            "\n",
            "Team: SkyVolleys (VOLLEYBALL)\n",
            "Players:\n",
            "  Sarah - Spiker\n",
            "  John - Libero\n",
            "Scores:\n",
            "  Against ThunderVolleys: 3 points\n",
            "  Against FireVolleys: 2 points\n",
            "\n"
          ]
        }
      ]
    },
    {
      "cell_type": "code",
      "source": [
        "!textx generate sports_grammar.tx --target dot"
      ],
      "metadata": {
        "colab": {
          "base_uri": "https://localhost:8080/"
        },
        "id": "25S0101jQI4N",
        "outputId": "9501163c-c92f-4691-c63d-87c8f20599c3"
      },
      "execution_count": 31,
      "outputs": [
        {
          "output_type": "stream",
          "name": "stdout",
          "text": [
            "Generating dot target from models:\n",
            "/content/sports_grammar.tx\n",
            "\u001b[31m\u001b[1m-- NOT overwriting: \u001b[0m/content/sports_grammar.dot\n"
          ]
        }
      ]
    },
    {
      "cell_type": "code",
      "source": [
        "import pydot\n",
        "\n",
        "(graph,) = pydot.graph_from_dot_file('sports_grammar.dot')\n",
        "graph.write_png('metamodel.png')\n"
      ],
      "metadata": {
        "id": "7h6AzjGGQLYo"
      },
      "execution_count": 32,
      "outputs": []
    },
    {
      "cell_type": "code",
      "source": [
        "import pydot\n",
        "\n",
        "# Convertimos el archivo .dot en una imagen PNG\n",
        "(graph,) = pydot.graph_from_dot_file('syntax_tree.dot')\n",
        "graph.write_png('syntax_tree.png')\n"
      ],
      "metadata": {
        "id": "CRkDLHDwV_ST"
      },
      "execution_count": 34,
      "outputs": []
    }
  ]
}