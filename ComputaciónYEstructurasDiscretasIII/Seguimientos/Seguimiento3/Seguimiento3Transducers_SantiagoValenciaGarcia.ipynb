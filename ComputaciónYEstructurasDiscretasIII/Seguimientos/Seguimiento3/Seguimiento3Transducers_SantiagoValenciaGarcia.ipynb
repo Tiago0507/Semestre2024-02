{
  "nbformat": 4,
  "nbformat_minor": 0,
  "metadata": {
    "colab": {
      "provenance": []
    },
    "kernelspec": {
      "name": "python3",
      "display_name": "Python 3"
    },
    "language_info": {
      "name": "python"
    }
  },
  "cells": [
    {
      "cell_type": "markdown",
      "source": [
        "# Santiago Valencia García - A00395902 - Seguimiento 3"
      ],
      "metadata": {
        "id": "oJy_t6n8EH2q"
      }
    },
    {
      "cell_type": "markdown",
      "source": [
        "## Diseño del transductor:\n",
        "<a href=\"https://ibb.co/WDgCBGn\"><img src=\"https://i.ibb.co/DG5dwz4/Imagen-Transductor.jpg\" alt=\"Imagen-Transductor\" border=\"0\"></a>"
      ],
      "metadata": {
        "id": "fJ6ELugNbS15"
      }
    },
    {
      "cell_type": "markdown",
      "source": [
        "## Implementación en Pyformlang:"
      ],
      "metadata": {
        "id": "dzt0sL2MbaQR"
      }
    },
    {
      "cell_type": "code",
      "execution_count": 44,
      "metadata": {
        "colab": {
          "base_uri": "https://localhost:8080/"
        },
        "id": "E57xI64_EBau",
        "outputId": "3f5a105a-dfae-4230-cbce-3f783ca57327"
      },
      "outputs": [
        {
          "output_type": "stream",
          "name": "stdout",
          "text": [
            "Requirement already satisfied: pyformlang in /usr/local/lib/python3.10/dist-packages (1.0.10)\n",
            "Requirement already satisfied: networkx in /usr/local/lib/python3.10/dist-packages (from pyformlang) (3.3)\n",
            "Requirement already satisfied: numpy in /usr/local/lib/python3.10/dist-packages (from pyformlang) (1.26.4)\n",
            "Requirement already satisfied: pydot in /usr/local/lib/python3.10/dist-packages (from pyformlang) (1.4.2)\n",
            "Requirement already satisfied: pyparsing>=2.1.4 in /usr/local/lib/python3.10/dist-packages (from pydot->pyformlang) (3.1.4)\n"
          ]
        }
      ],
      "source": [
        "!pip install pyformlang\n",
        "from pyformlang.fst import FST"
      ]
    },
    {
      "cell_type": "code",
      "source": [
        "pronouns = ['yo', 'tu', 'el', 'ella', 'nosotros', 'nosotras', 'vosotros', 'vosotras', 'ellos', 'ellas']\n",
        "verbs = ['soñar', 'escribir', 'correr']\n",
        "adjectives = ['fuerte', 'veloz', 'triste']\n",
        "\n",
        "# Combinaciones posibles\n",
        "input_strings = [[x, y, z] for x in pronouns for y in verbs for z in adjectives]\n",
        "\n",
        "trans = FST()\n",
        "\n",
        "trans.add_transitions([\n",
        "    ('q0', 'yo', 'q1', ['yo']),\n",
        "    ('q0', 'tu', 'q2', ['tu']),\n",
        "    ('q0', 'el', 'q3', ['el']),\n",
        "    ('q0', 'ella', 'q3', ['ella']),\n",
        "    ('q0', 'nosotros', 'q4', ['nosotros']),\n",
        "    ('q0', 'nosotras', 'q4', ['nosotras']),\n",
        "    ('q0', 'vosotros', 'q5', ['vosotros']),\n",
        "    ('q0', 'vosotras', 'q5', ['vosotras']),\n",
        "    ('q0', 'ellos', 'q6', ['ellos']),\n",
        "    ('q0', 'ellas', 'q6', ['ellas']),\n",
        "    ('q1', 'soñar', 'q7', ['sueño']),\n",
        "    ('q1', 'escribir', 'q7', ['escribo']),\n",
        "    ('q1', 'correr', 'q7', ['corro']),\n",
        "    ('q2', 'soñar', 'q7', ['sueñas']),\n",
        "    ('q2', 'escribir', 'q7', ['escribes']),\n",
        "    ('q2', 'correr', 'q7', ['corres']),\n",
        "    ('q3', 'soñar', 'q7', ['sueña']),\n",
        "    ('q3', 'escribir', 'q7', ['escribe']),\n",
        "    ('q3', 'correr', 'q7', ['corre']),\n",
        "    ('q4', 'soñar', 'q7', ['soñamos']),\n",
        "    ('q4', 'escribir', 'q7', ['escribimos']),\n",
        "    ('q4', 'correr', 'q7', ['corremos']),\n",
        "    ('q5', 'soñar', 'q7', ['soñáis']),\n",
        "    ('q5', 'escribir', 'q7', ['escribís']),\n",
        "    ('q5', 'correr', 'q7', ['corréis']),\n",
        "    ('q6', 'soñar', 'q7', ['sueñan']),\n",
        "    ('q6', 'escribir', 'q7', ['escriben']),\n",
        "    ('q6', 'correr', 'q7', ['corren']),\n",
        "    ('q7', 'fuerte', 'q8', ['fuertemente']),\n",
        "    ('q7', 'veloz', 'q8', ['velozmente']),\n",
        "    ('q7', 'triste', 'q8', ['tristemente']),\n",
        "])\n",
        "\n",
        "trans.add_start_state('q0')\n",
        "trans.add_final_state('q8')\n",
        "\n",
        "trans_phrases = []\n",
        "for word in input_strings:\n",
        "    translated = list(trans.translate(word))\n",
        "    # Unir los elementos de la traducción en una sola cadena\n",
        "    if translated:\n",
        "        if isinstance(translated[0], list):\n",
        "            translated = [item for sublist in translated for item in sublist]\n",
        "        trans_phrases.append(' '.join(translated))\n",
        "\n",
        "for phrase in trans_phrases:\n",
        "    print(phrase)\n"
      ],
      "metadata": {
        "colab": {
          "base_uri": "https://localhost:8080/"
        },
        "id": "AWfOtAtnHJUj",
        "outputId": "3827b479-f401-406b-d010-c0d68b1065bb"
      },
      "execution_count": 46,
      "outputs": [
        {
          "output_type": "stream",
          "name": "stdout",
          "text": [
            "yo sueño fuertemente\n",
            "yo sueño velozmente\n",
            "yo sueño tristemente\n",
            "yo escribo fuertemente\n",
            "yo escribo velozmente\n",
            "yo escribo tristemente\n",
            "yo corro fuertemente\n",
            "yo corro velozmente\n",
            "yo corro tristemente\n",
            "tu sueñas fuertemente\n",
            "tu sueñas velozmente\n",
            "tu sueñas tristemente\n",
            "tu escribes fuertemente\n",
            "tu escribes velozmente\n",
            "tu escribes tristemente\n",
            "tu corres fuertemente\n",
            "tu corres velozmente\n",
            "tu corres tristemente\n",
            "el sueña fuertemente\n",
            "el sueña velozmente\n",
            "el sueña tristemente\n",
            "el escribe fuertemente\n",
            "el escribe velozmente\n",
            "el escribe tristemente\n",
            "el corre fuertemente\n",
            "el corre velozmente\n",
            "el corre tristemente\n",
            "ella sueña fuertemente\n",
            "ella sueña velozmente\n",
            "ella sueña tristemente\n",
            "ella escribe fuertemente\n",
            "ella escribe velozmente\n",
            "ella escribe tristemente\n",
            "ella corre fuertemente\n",
            "ella corre velozmente\n",
            "ella corre tristemente\n",
            "nosotros soñamos fuertemente\n",
            "nosotros soñamos velozmente\n",
            "nosotros soñamos tristemente\n",
            "nosotros escribimos fuertemente\n",
            "nosotros escribimos velozmente\n",
            "nosotros escribimos tristemente\n",
            "nosotros corremos fuertemente\n",
            "nosotros corremos velozmente\n",
            "nosotros corremos tristemente\n",
            "nosotras soñamos fuertemente\n",
            "nosotras soñamos velozmente\n",
            "nosotras soñamos tristemente\n",
            "nosotras escribimos fuertemente\n",
            "nosotras escribimos velozmente\n",
            "nosotras escribimos tristemente\n",
            "nosotras corremos fuertemente\n",
            "nosotras corremos velozmente\n",
            "nosotras corremos tristemente\n",
            "vosotros soñáis fuertemente\n",
            "vosotros soñáis velozmente\n",
            "vosotros soñáis tristemente\n",
            "vosotros escribís fuertemente\n",
            "vosotros escribís velozmente\n",
            "vosotros escribís tristemente\n",
            "vosotros corréis fuertemente\n",
            "vosotros corréis velozmente\n",
            "vosotros corréis tristemente\n",
            "vosotras soñáis fuertemente\n",
            "vosotras soñáis velozmente\n",
            "vosotras soñáis tristemente\n",
            "vosotras escribís fuertemente\n",
            "vosotras escribís velozmente\n",
            "vosotras escribís tristemente\n",
            "vosotras corréis fuertemente\n",
            "vosotras corréis velozmente\n",
            "vosotras corréis tristemente\n",
            "ellos sueñan fuertemente\n",
            "ellos sueñan velozmente\n",
            "ellos sueñan tristemente\n",
            "ellos escriben fuertemente\n",
            "ellos escriben velozmente\n",
            "ellos escriben tristemente\n",
            "ellos corren fuertemente\n",
            "ellos corren velozmente\n",
            "ellos corren tristemente\n",
            "ellas sueñan fuertemente\n",
            "ellas sueñan velozmente\n",
            "ellas sueñan tristemente\n",
            "ellas escriben fuertemente\n",
            "ellas escriben velozmente\n",
            "ellas escriben tristemente\n",
            "ellas corren fuertemente\n",
            "ellas corren velozmente\n",
            "ellas corren tristemente\n"
          ]
        }
      ]
    }
  ]
}